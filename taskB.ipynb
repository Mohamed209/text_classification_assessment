{
 "cells": [
  {
   "cell_type": "code",
   "execution_count": 1,
   "metadata": {},
   "outputs": [
    {
     "name": "stderr",
     "output_type": "stream",
     "text": [
      "Using TensorFlow backend.\n"
     ]
    }
   ],
   "source": [
    "\"\"\"\n",
    "notebook used to train text classifier model for taskB\n",
    "\"\"\"\n",
    "import warnings\n",
    "warnings.filterwarnings('ignore')\n",
    "from src.model_trainer import ModelTrainingSession"
   ]
  },
  {
   "cell_type": "code",
   "execution_count": 2,
   "metadata": {},
   "outputs": [
    {
     "name": "stdout",
     "output_type": "stream",
     "text": [
      "WARNING:tensorflow:From /home/mohamed-mossad/.local/lib/python3.6/site-packages/tensorflow/python/ops/nn_impl.py:180: add_dispatch_support.<locals>.wrapper (from tensorflow.python.ops.array_ops) is deprecated and will be removed in a future version.\n",
      "Instructions for updating:\n",
      "Use tf.where in 2.0, which has the same broadcast rule as np.where\n",
      "Model: \"sequential_1\"\n",
      "_________________________________________________________________\n",
      "Layer (type)                 Output Shape              Param #   \n",
      "=================================================================\n",
      "embedding_1 (Embedding)      (None, 500, 32)           160000    \n",
      "_________________________________________________________________\n",
      "lstm_1 (LSTM)                (None, 100)               53200     \n",
      "_________________________________________________________________\n",
      "dense_1 (Dense)              (None, 1)                 101       \n",
      "=================================================================\n",
      "Total params: 213,301\n",
      "Trainable params: 213,301\n",
      "Non-trainable params: 0\n",
      "_________________________________________________________________\n",
      "None\n",
      "WARNING:tensorflow:From /home/mohamed-mossad/.local/lib/python3.6/site-packages/keras/backend/tensorflow_backend.py:422: The name tf.global_variables is deprecated. Please use tf.compat.v1.global_variables instead.\n",
      "\n",
      "Train on 37500 samples, validate on 12500 samples\n",
      "Epoch 1/3\n",
      "37500/37500 [==============================] - 486s 13ms/step - loss: 0.4222 - accuracy: 0.8029 - val_loss: 0.3111 - val_accuracy: 0.8722\n",
      "Epoch 2/3\n",
      "37500/37500 [==============================] - 474s 13ms/step - loss: 0.2765 - accuracy: 0.8893 - val_loss: 0.3061 - val_accuracy: 0.8811\n",
      "Epoch 3/3\n",
      "37500/37500 [==============================] - 468s 12ms/step - loss: 0.2309 - accuracy: 0.9105 - val_loss: 0.2773 - val_accuracy: 0.8904\n",
      "12500/12500 [==============================] - 63s 5ms/step\n",
      "Finished Training with test set Accuracy : 0.8903999924659729\n"
     ]
    }
   ],
   "source": [
    "ts = ModelTrainingSession()\n",
    "ts.load_data('imdb')\n",
    "xtrain, xtest, ytrain, ytest = ModelTrainingSession.train_test_split(ts.X, ts.y, 0.25)\n",
    "ts.train_best_params(xtrain,ytrain,xtest,ytest,algorithm='lstm')\n",
    "ts.save_training_data(xtest,ytest)"
   ]
  },
  {
   "cell_type": "code",
   "execution_count": 2,
   "metadata": {},
   "outputs": [
    {
     "name": "stdout",
     "output_type": "stream",
     "text": [
      "Classification Report               precision    recall  f1-score   support\n",
      "\n",
      "           0       0.88      0.90      0.89      6253\n",
      "           1       0.90      0.88      0.89      6247\n",
      "\n",
      "    accuracy                           0.89     12500\n",
      "   macro avg       0.89      0.89      0.89     12500\n",
      "weighted avg       0.89      0.89      0.89     12500\n",
      " \n"
     ]
    },
    {
     "data": {
      "image/png": "[encoded data removed]",
      "text/plain": [
       "<Figure size 504x360 with 2 Axes>"
      ]
     },
     "metadata": {},
     "output_type": "display_data"
    }
   ],
   "source": [
    "from src.model_evaluator import ModelEvaluator\n",
    "eval = ModelEvaluator(algorithm='lstm')\n",
    "eval.load_weights()\n",
    "eval.print_classification_report()\n",
    "eval.plot_confusion_matrix(no_of_classes=2)"
   ]
  },
  {
   "cell_type": "code",
   "execution_count": null,
   "metadata": {},
   "outputs": [],
   "source": []
  }
 ],
 "metadata": {
  "kernelspec": {
   "display_name": "Python 3",
   "language": "python",
   "name": "python3"
  },
  "language_info": {
   "codemirror_mode": {
    "name": "ipython",
    "version": 3
   },
   "file_extension": ".py",
   "mimetype": "text/x-python",
   "name": "python",
   "nbconvert_exporter": "python",
   "pygments_lexer": "ipython3",
   "version": "3.6.8"
  }
 },
 "nbformat": 4,
 "nbformat_minor": 2
}
