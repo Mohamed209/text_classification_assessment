{
 "cells": [
  {
   "cell_type": "code",
   "execution_count": null,
   "metadata": {},
   "outputs": [],
   "source": [
    "from src.data_preprocessor import DataPreprocessor\n",
    "pro = DataPreprocessor()\n",
    "pro.load_data('data/raw/train_set.txt')\n",
    "pro.clean_text()\n",
    "pro.augment_text()\n",
    "pro.stem_text(pro.augmented_df)\n",
    "pro.save_proceesed_data(pro.augmented_df, 'data/processed/train.csv')\n",
    "print(\"Preprocessing Finished :)\")"
   ]
  }
 ],
 "metadata": {
  "kernelspec": {
   "display_name": "Python 3",
   "language": "python",
   "name": "python3"
  },
  "language_info": {
   "codemirror_mode": {
    "name": "ipython",
    "version": 3
   },
   "file_extension": ".py",
   "mimetype": "text/x-python",
   "name": "python",
   "nbconvert_exporter": "python",
   "pygments_lexer": "ipython3",
   "version": "3.6.8"
  }
 },
 "nbformat": 4,
 "nbformat_minor": 2
}
